{
 "cells": [
  {
   "cell_type": "markdown",
   "metadata": {},
   "source": [
    "# Tema 03: Control de flujo (Enunciados)\n",
    "*Nota: Estos ejercicios son optativos para hacer al final de la unidad y están pensados para apoyar tu aprendizaje*."
   ]
  },
  {
   "cell_type": "markdown",
   "metadata": {},
   "source": [
    "**1) Realiza un programa que lea dos números por teclado y permita elegir entre 3 opciones en un menú:** \n",
    "* Mostrar una suma de los dos números\n",
    "* Mostrar una resta de los dos números (el primero menos el segundo)\n",
    "* Mostrar una multiplicación de los dos números\n",
    "* En caso de no introducir una opción válida, el programa informará de que no es correcta."
   ]
  },
  {
   "cell_type": "code",
   "execution_count": null,
   "metadata": {},
   "outputs": [],
   "source": [
    "# Completa el ejercicio aquí\n",
    "def menu():\n",
    "    return input(\"Elige una opción:\\n1. Sumar\\n2. Restar\\n3. Multiplicar\\n> \")\n",
    "\n",
    "num1 = float(input(\"Primer número: \"))\n",
    "num2 = float(input(\"Segundo número: \"))\n",
    "\n",
    "opcion = menu()\n",
    "\n",
    "if opcion == \"1\":\n",
    "    print(f\"Resultado: {num1 + num2}\")\n",
    "elif opcion == \"2\":\n",
    "    print(f\"Resultado: {num1 - num2}\")\n",
    "elif opcion == \"3\":\n",
    "    print(f\"Resultado: {num1 * num2}\")\n",
    "else:\n",
    "    print(\"Opción no válida. Inténtalo de nuevo.\")\n"
   ]
  },
  {
   "cell_type": "markdown",
   "metadata": {},
   "source": [
    "**2) Realiza un programa que lea un número impar por teclado. Si el usuario no introduce un número impar, debe repetise el proceso hasta que lo introduzca correctamente.**"
   ]
  },
  {
   "cell_type": "code",
   "execution_count": null,
   "metadata": {},
   "outputs": [],
   "source": [
    "# Completa el ejercicio aquí\n",
    "while True:\n",
    "    num = int(input(\"Introduce un número impar: \"))\n",
    "    if num % 2 != 0:\n",
    "        print(f\"¡Gracias! {num} es un número impar.\")\n",
    "        break\n",
    "    print(\"Eso no es un número impar. Inténtalo de nuevo.\")\n"
   ]
  },
  {
   "cell_type": "markdown",
   "metadata": {},
   "source": [
    "**3) Realiza un programa que sume todos los números enteros pares desde el 0 hasta el 100:**\n",
    "\n",
    "*Sugerencia: Puedes utilizar la funciones sum() y range() para hacerlo más fácil. El tercer parámetro en la función range(inicio, fin, salto) indica un salto de números, pruébalo.*"
   ]
  },
  {
   "cell_type": "code",
   "execution_count": null,
   "metadata": {},
   "outputs": [],
   "source": [
    "# Completa el ejercicio aquí\n",
    "suma_pares = sum(range(0, 101, 2))\n",
    "print(f\"La suma de todos los números pares del 0 al 100 es: {suma_pares}\")"
   ]
  },
  {
   "cell_type": "markdown",
   "metadata": {},
   "source": [
    "**4) Realiza un programa que pida al usuario cuantos números quiere introducir. Luego lee todos los números y realiza una media aritmética:**\n"
   ]
  },
  {
   "cell_type": "code",
   "execution_count": null,
   "metadata": {},
   "outputs": [],
   "source": [
    "# Completa el ejercicio aquí\n",
    "cantidad = int(input(\"¿Cuántos números quieres introducir? \"))\n",
    "numeros = [float(input(f\"Introduce el número {i + 1}: \")) for i in range(cantidad)]\n",
    "media = sum(numeros) / cantidad if cantidad > 0 else 0\n",
    "print(f\"La media aritmética es: {media}\")\n",
    "\n",
    "\n"
   ]
  },
  {
   "cell_type": "markdown",
   "metadata": {},
   "source": [
    "**5) Realiza un programa que pida al usuario un número entero del 0 al 9, y que mientras el número no sea correcto se repita el proceso. Luego debe comprobar si el número se encuentra en la lista de números y notificarlo:**\n",
    "\n",
    "*Consejo: La sintaxis \"valor in lista\" permite comprobar fácilmente si un valor se encuentra en una lista (devuelve True o False)*"
   ]
  },
  {
   "cell_type": "code",
   "execution_count": null,
   "metadata": {},
   "outputs": [],
   "source": [
    "# Completa el ejercicio aquí\n",
    "numeros = list(range(10))\n",
    "\n",
    "while True:\n",
    "    num = int(input(\"Introduce un número entero del 0 al 9: \"))\n",
    "    if 0 <= num <= 9:\n",
    "        break\n",
    "    print(\"Número fuera de rango, inténtalo de nuevo.\")\n",
    "\n",
    "if num in numeros:\n",
    "    print(f\"El número {num} está en la lista.\")\n",
    "else:\n",
    "    print(f\"El número {num} no está en la lista.\")\n",
    "    "
   ]
  },
  {
   "cell_type": "code",
   "execution_count": null,
   "metadata": {},
   "outputs": [],
   "source": []
  },
  {
   "cell_type": "markdown",
   "metadata": {},
   "source": [
    "**6) Utilizando la función range() y la conversión a listas genera las siguientes listas dinámicamente:**\n",
    "* Todos los números del 0 al 10 [0, 1, 2, ..., 10]\n",
    "* Todos los números del -10 al 0 [-10, -9, -8, ..., 0]\n",
    "* Todos los números pares del 0 al 20 [0, 2, 4, ..., 20]\n",
    "* Todos los números impares entre -20 y 0 [-19, -17, -15, ..., -1]\n",
    "* Todos los números múltiples de 5 del 0 al 50 [0, 5, 10, ..., 50]\n",
    "\n",
    "*Pista: Utiliza el tercer parámetro de la función range(inicio, fin, salto).*"
   ]
  },
  {
   "cell_type": "code",
   "execution_count": null,
   "metadata": {},
   "outputs": [],
   "source": [
    "# Completa el ejercicio\n",
    "# del 0 al 10\n",
    "print(list(range(0, 11)))\n",
    "\n",
    "# del -10 al 0\n",
    "print(list(range(-10, 1)))\n",
    "\n",
    "# Números pares del 0 al 20\n",
    "print(list(range(0, 21, 2)))\n",
    "\n",
    "# Números impares entre -20 y 0\n",
    "print(list(range(-19, 0, 2)))\n",
    "\n",
    "# Múltiplos de 5 del 0 al 50\n",
    "print(list(range(0, 51, 5)))\n",
    "\n",
    "\n",
    "\n",
    "\n"
   ]
  },
  {
   "cell_type": "code",
   "execution_count": null,
   "metadata": {},
   "outputs": [],
   "source": []
  },
  {
   "cell_type": "markdown",
   "metadata": {},
   "source": [
    "**7) Dadas dos listas, debes generar una tercera con todos los elementos que se repitan en ellas, pero no debe repetise ningún elemento en la nueva lista:**"
   ]
  },
  {
   "cell_type": "code",
   "execution_count": null,
   "metadata": {},
   "outputs": [],
   "source": [
    "# Completa el ejercicio aquí\n"
   ]
  },
  {
   "cell_type": "code",
   "execution_count": null,
   "metadata": {},
   "outputs": [],
   "source": []
  }
 ],
 "metadata": {
  "anaconda-cloud": {},
  "kernelspec": {
   "display_name": "Python 3 (ipykernel)",
   "language": "python",
   "name": "python3"
  },
  "language_info": {
   "codemirror_mode": {
    "name": "ipython",
    "version": 3
   },
   "file_extension": ".py",
   "mimetype": "text/x-python",
   "name": "python",
   "nbconvert_exporter": "python",
   "pygments_lexer": "ipython3",
   "version": "3.8.20"
  }
 },
 "nbformat": 4,
 "nbformat_minor": 4
}
